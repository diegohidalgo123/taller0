{
 "cells": [
  {
   "cell_type": "markdown",
   "id": "ee0f21c5",
   "metadata": {},
   "source": [
    "# Práctica 1 - Conociendo los tipos primitivos y algunas operaciones y funciones nativas de Python 3\n",
    "Autor: Claudio Morales D.<br>\n",
    "https://github.com/cmoralesd/conociendo-python <br>\n",
    "Otoño 2023 <br>\n",
    "<br>\n",
    "Para profundizar en conceptos y otros aspectos de programación con Python, recomiendo consultar el curso en línea e la Escuela de Ingenierías Industriales de la Universidad de Valencia, \"Fundamentos de Programación en Python\", disponible en este enlace: https://www2.eii.uva.es/fund_inf/python/index.html\n"
   ]
  },
  {
   "cell_type": "markdown",
   "id": "0d5ad77a",
   "metadata": {},
   "source": [
    "## 1. Tipos primitivos: enteros, reales, booleanos, cadenas de texto y complejos"
   ]
  },
  {
   "cell_type": "code",
   "execution_count": 1,
   "id": "6084f373",
   "metadata": {},
   "outputs": [],
   "source": [
    "# Los tipos de variables para representar valores numéricos son int, float\n",
    "var_1 = 1\n",
    "var_2 = 1.\n"
   ]
  },
  {
   "cell_type": "code",
   "execution_count": 2,
   "id": "ceb03695",
   "metadata": {},
   "outputs": [],
   "source": [
    "# Las variables booleanas pueden tener valor lógico True o False\n",
    "var_3 = True\n"
   ]
  },
  {
   "cell_type": "code",
   "execution_count": 3,
   "id": "1f7e7f7a",
   "metadata": {},
   "outputs": [],
   "source": [
    "# Las cadenas de texto se definen utilizando comillas simples o dobles\n",
    "var_4 = \"texto 1\"\n",
    "var_5 = 'otro texto'\n"
   ]
  },
  {
   "cell_type": "code",
   "execution_count": 4,
   "id": "795df7e1",
   "metadata": {},
   "outputs": [
    {
     "data": {
      "text/plain": [
       "1"
      ]
     },
     "execution_count": 4,
     "metadata": {},
     "output_type": "execute_result"
    }
   ],
   "source": [
    "# En Jupyter Notebooks, es posible conocer rápidamente el valor contenido en una variable,\n",
    "# simplemente observando la salida de consola (se muestra solo para la última operación de cada celda)\n",
    "var_1\n"
   ]
  },
  {
   "cell_type": "code",
   "execution_count": 5,
   "id": "5feb09c5",
   "metadata": {},
   "outputs": [
    {
     "data": {
      "text/plain": [
       "False"
      ]
     },
     "execution_count": 5,
     "metadata": {},
     "output_type": "execute_result"
    }
   ],
   "source": [
    "# Las operaciones de comparación entregan como resultado True o False\n",
    "var_1 > var_2\n"
   ]
  },
  {
   "cell_type": "code",
   "execution_count": 6,
   "id": "80e27d5f",
   "metadata": {},
   "outputs": [
    {
     "data": {
      "text/plain": [
       "str"
      ]
     },
     "execution_count": 6,
     "metadata": {},
     "output_type": "execute_result"
    }
   ],
   "source": [
    "# Para conocer el tipo de variable se utiliza type()\n",
    "type(var_5)\n"
   ]
  },
  {
   "cell_type": "code",
   "execution_count": 7,
   "id": "41d96021",
   "metadata": {},
   "outputs": [
    {
     "data": {
      "text/plain": [
       "(3+2j)"
      ]
     },
     "execution_count": 7,
     "metadata": {},
     "output_type": "execute_result"
    }
   ],
   "source": [
    "# Los números complejos pueden representarse por una variable de tipo complex,\n",
    "# se escribe en forma rectangular (a + bj), agregando el operador j\n",
    "var_6 = 3 + 2j\n",
    "var_6\n"
   ]
  },
  {
   "cell_type": "code",
   "execution_count": 8,
   "id": "7569b100",
   "metadata": {},
   "outputs": [
    {
     "data": {
      "text/plain": [
       "19.792017"
      ]
     },
     "execution_count": 8,
     "metadata": {},
     "output_type": "execute_result"
    }
   ],
   "source": [
    "# Es posible definir varias variables simultáneamente, en una única línea, separando por comas\n",
    "radio, altura, PI = 2.1, 1.5, 3.14159\n",
    "\n",
    "# también se puede asignar el resultado de una operación a una variable\n",
    "volumen_cilindro = 2*PI*radio*altura\n",
    "volumen_cilindro\n"
   ]
  },
  {
   "cell_type": "markdown",
   "id": "bbebda7b",
   "metadata": {},
   "source": [
    "## 2. Operaciones y funciones nativas con variables de tipos primitivos"
   ]
  },
  {
   "cell_type": "code",
   "execution_count": 9,
   "id": "fb062394",
   "metadata": {},
   "outputs": [
    {
     "data": {
      "text/plain": [
       "3.773592452822642"
      ]
     },
     "execution_count": 9,
     "metadata": {},
     "output_type": "execute_result"
    }
   ],
   "source": [
    "# La función abs() calcula el valor absoluto o módulo de variables numéricas\n",
    "num1, num2, num3 = 7.5, -3.2, 2 + 3.2j\n",
    "abs(num3)\n"
   ]
  },
  {
   "cell_type": "code",
   "execution_count": 10,
   "id": "6bfee0a6",
   "metadata": {},
   "outputs": [
    {
     "data": {
      "text/plain": [
       "9"
      ]
     },
     "execution_count": 10,
     "metadata": {},
     "output_type": "execute_result"
    }
   ],
   "source": [
    "# El cálculo de potencias se realiza con el operador **\n",
    "3**2\n"
   ]
  },
  {
   "cell_type": "code",
   "execution_count": 11,
   "id": "e33f9b87",
   "metadata": {},
   "outputs": [
    {
     "data": {
      "text/plain": [
       "1.4142135623730951"
      ]
     },
     "execution_count": 11,
     "metadata": {},
     "output_type": "execute_result"
    }
   ],
   "source": [
    "# Es posible calcular potencias con exponentes racionales\n",
    "2**(1/2)\n"
   ]
  },
  {
   "cell_type": "code",
   "execution_count": 12,
   "id": "950d20c1",
   "metadata": {},
   "outputs": [
    {
     "data": {
      "text/plain": [
       "(8.659560562354934e-17+1.4142135623730951j)"
      ]
     },
     "execution_count": 12,
     "metadata": {},
     "output_type": "execute_result"
    }
   ],
   "source": [
    "# Incluso se pueden realizar cálculos cuyo resultado se extiende al campo de los números complejos\n",
    "(-2)**(1/2)\n"
   ]
  },
  {
   "cell_type": "code",
   "execution_count": 13,
   "id": "4cc5317c",
   "metadata": {},
   "outputs": [],
   "source": [
    "# CUIDADO! Siempre es importante tener en cuenta las prioridades en los cálculos matemáticos \n",
    "# Estos 5 cálculos entregan resultados distintos\n",
    "# ¿Cuál de ellos corresponde a 2 veces la raíz cuadrada de -3?\n",
    "\n",
    "valor_1 = 2*-3**1/2 \n",
    "valor_2 = 2*(-3)**1/2 \n",
    "valor_3 = 2*(-3)**(1/2)\n",
    "valor_4 = (2*-3)**(1/2)\n",
    "valor_5 = 2*(-3**1/2)\n"
   ]
  },
  {
   "cell_type": "code",
   "execution_count": 14,
   "id": "56089c56",
   "metadata": {},
   "outputs": [
    {
     "data": {
      "text/plain": [
       "1.414"
      ]
     },
     "execution_count": 14,
     "metadata": {},
     "output_type": "execute_result"
    }
   ],
   "source": [
    "# Para las variables de tipo float, es posible redondear decimales con round()\n",
    "round(2**(1/2), 3)\n"
   ]
  },
  {
   "cell_type": "code",
   "execution_count": 15,
   "id": "d082a9dd",
   "metadata": {},
   "outputs": [
    {
     "data": {
      "text/plain": [
       "['__abs__',\n",
       " '__add__',\n",
       " '__bool__',\n",
       " '__ceil__',\n",
       " '__class__',\n",
       " '__delattr__',\n",
       " '__dir__',\n",
       " '__divmod__',\n",
       " '__doc__',\n",
       " '__eq__',\n",
       " '__float__',\n",
       " '__floor__',\n",
       " '__floordiv__',\n",
       " '__format__',\n",
       " '__ge__',\n",
       " '__getattribute__',\n",
       " '__getformat__',\n",
       " '__getnewargs__',\n",
       " '__getstate__',\n",
       " '__gt__',\n",
       " '__hash__',\n",
       " '__init__',\n",
       " '__init_subclass__',\n",
       " '__int__',\n",
       " '__le__',\n",
       " '__lt__',\n",
       " '__mod__',\n",
       " '__mul__',\n",
       " '__ne__',\n",
       " '__neg__',\n",
       " '__new__',\n",
       " '__pos__',\n",
       " '__pow__',\n",
       " '__radd__',\n",
       " '__rdivmod__',\n",
       " '__reduce__',\n",
       " '__reduce_ex__',\n",
       " '__repr__',\n",
       " '__rfloordiv__',\n",
       " '__rmod__',\n",
       " '__rmul__',\n",
       " '__round__',\n",
       " '__rpow__',\n",
       " '__rsub__',\n",
       " '__rtruediv__',\n",
       " '__setattr__',\n",
       " '__sizeof__',\n",
       " '__str__',\n",
       " '__sub__',\n",
       " '__subclasshook__',\n",
       " '__truediv__',\n",
       " '__trunc__',\n",
       " 'as_integer_ratio',\n",
       " 'conjugate',\n",
       " 'fromhex',\n",
       " 'hex',\n",
       " 'imag',\n",
       " 'is_integer',\n",
       " 'real']"
      ]
     },
     "execution_count": 15,
     "metadata": {},
     "output_type": "execute_result"
    }
   ],
   "source": [
    "# Cada variable es, estrictamente hablando, una instancia de una clase y tiene todas\n",
    "# las atributos y métodos que han sido definidos para esa clase.\n",
    "# Para conocerlos, se puede utilizar la función dir()\n",
    "my_var = 3.2\n",
    "dir(my_var)\n"
   ]
  },
  {
   "cell_type": "code",
   "execution_count": 16,
   "id": "64789645",
   "metadata": {},
   "outputs": [
    {
     "data": {
      "text/plain": [
       "False"
      ]
     },
     "execution_count": 16,
     "metadata": {},
     "output_type": "execute_result"
    }
   ],
   "source": [
    "my_var.is_integer()\n"
   ]
  },
  {
   "cell_type": "code",
   "execution_count": 17,
   "id": "5f80e890",
   "metadata": {},
   "outputs": [
    {
     "data": {
      "text/plain": [
       "['__add__',\n",
       " '__class__',\n",
       " '__contains__',\n",
       " '__delattr__',\n",
       " '__dir__',\n",
       " '__doc__',\n",
       " '__eq__',\n",
       " '__format__',\n",
       " '__ge__',\n",
       " '__getattribute__',\n",
       " '__getitem__',\n",
       " '__getnewargs__',\n",
       " '__getstate__',\n",
       " '__gt__',\n",
       " '__hash__',\n",
       " '__init__',\n",
       " '__init_subclass__',\n",
       " '__iter__',\n",
       " '__le__',\n",
       " '__len__',\n",
       " '__lt__',\n",
       " '__mod__',\n",
       " '__mul__',\n",
       " '__ne__',\n",
       " '__new__',\n",
       " '__reduce__',\n",
       " '__reduce_ex__',\n",
       " '__repr__',\n",
       " '__rmod__',\n",
       " '__rmul__',\n",
       " '__setattr__',\n",
       " '__sizeof__',\n",
       " '__str__',\n",
       " '__subclasshook__',\n",
       " 'capitalize',\n",
       " 'casefold',\n",
       " 'center',\n",
       " 'count',\n",
       " 'encode',\n",
       " 'endswith',\n",
       " 'expandtabs',\n",
       " 'find',\n",
       " 'format',\n",
       " 'format_map',\n",
       " 'index',\n",
       " 'isalnum',\n",
       " 'isalpha',\n",
       " 'isascii',\n",
       " 'isdecimal',\n",
       " 'isdigit',\n",
       " 'isidentifier',\n",
       " 'islower',\n",
       " 'isnumeric',\n",
       " 'isprintable',\n",
       " 'isspace',\n",
       " 'istitle',\n",
       " 'isupper',\n",
       " 'join',\n",
       " 'ljust',\n",
       " 'lower',\n",
       " 'lstrip',\n",
       " 'maketrans',\n",
       " 'partition',\n",
       " 'removeprefix',\n",
       " 'removesuffix',\n",
       " 'replace',\n",
       " 'rfind',\n",
       " 'rindex',\n",
       " 'rjust',\n",
       " 'rpartition',\n",
       " 'rsplit',\n",
       " 'rstrip',\n",
       " 'split',\n",
       " 'splitlines',\n",
       " 'startswith',\n",
       " 'strip',\n",
       " 'swapcase',\n",
       " 'title',\n",
       " 'translate',\n",
       " 'upper',\n",
       " 'zfill']"
      ]
     },
     "execution_count": 17,
     "metadata": {},
     "output_type": "execute_result"
    }
   ],
   "source": [
    "# Para las variables de tipo str, hay varios métodos que es bueno conocer\n",
    "texto = \"un texto de ejemplo\"\n",
    "dir(texto)\n"
   ]
  },
  {
   "cell_type": "code",
   "execution_count": 18,
   "id": "f013b29e",
   "metadata": {},
   "outputs": [],
   "source": [
    "# En Jupyter Notebooks, los parámetros y métodos disponibles se pueden identificar\n",
    "# fácilmente mediante autocompletar (tecla TAB)\n",
    "text_value = \"132\"\n"
   ]
  },
  {
   "cell_type": "code",
   "execution_count": 34,
   "id": "3f98c493",
   "metadata": {},
   "outputs": [
    {
     "data": {
      "text/plain": [
       "['12.5', ' 3.25', ' 44', '3', ' 120', ' 0']"
      ]
     },
     "execution_count": 34,
     "metadata": {},
     "output_type": "execute_result"
    }
   ],
   "source": [
    "# Un método muy utilizado al trabajar con cadenas de texto es .split(), que sirve para\n",
    "#  separar sectores de una cadena en una lista. Se utiliza indicando el caracter de separación.\n",
    "datos_recibidos = '12.5, 3.25, 44,3, 120, 0'\n",
    "datos_recibidos.split(',')\n"
   ]
  },
  {
   "cell_type": "code",
   "execution_count": 35,
   "id": "a7388cbc",
   "metadata": {},
   "outputs": [
    {
     "data": {
      "text/plain": [
       "1.32"
      ]
     },
     "execution_count": 35,
     "metadata": {},
     "output_type": "execute_result"
    }
   ],
   "source": [
    "# Dado que trabajaremos frecuentemente con valores numéricos y cadenas de texto,\n",
    "# conviene conocer las funciones de conversión más comunes:\n",
    "text_value = \"1.32\"\n",
    "float(text_value)\n"
   ]
  },
  {
   "cell_type": "code",
   "execution_count": 36,
   "id": "41719e41",
   "metadata": {},
   "outputs": [
    {
     "data": {
      "text/plain": [
       "'1.4142'"
      ]
     },
     "execution_count": 36,
     "metadata": {},
     "output_type": "execute_result"
    }
   ],
   "source": [
    "# También es posible transformar números a cadenas de texto\n",
    "value = round(2**(1/2), 4)\n",
    "str(value)\n"
   ]
  },
  {
   "cell_type": "markdown",
   "id": "605e0528",
   "metadata": {},
   "source": [
    "## 3. La función print()"
   ]
  },
  {
   "cell_type": "code",
   "execution_count": 37,
   "id": "adc0bf27",
   "metadata": {},
   "outputs": [
    {
     "name": "stdout",
     "output_type": "stream",
     "text": [
      "mensaje a la consola...\n"
     ]
    }
   ],
   "source": [
    "# Las cadenas de texto pueden enviarse a la consola en tiempo de ejecución usando la función print()\n",
    "msg = 'mensaje a la consola...'\n",
    "print(msg)\n"
   ]
  },
  {
   "cell_type": "code",
   "execution_count": 38,
   "id": "e1f5bff8",
   "metadata": {},
   "outputs": [
    {
     "name": "stdout",
     "output_type": "stream",
     "text": [
      "El mensaje comienza aquíy concluye aquí.\n"
     ]
    }
   ],
   "source": [
    "# Las cadenas de texto pueden concatenarse, con el operador +\n",
    "txt1 = 'El mensaje comienza aquí'\n",
    "txt2 =  'y concluye aquí.'\n",
    "print(txt1 + txt2)\n"
   ]
  },
  {
   "cell_type": "code",
   "execution_count": 39,
   "id": "8e91a644",
   "metadata": {},
   "outputs": [
    {
     "name": "stdout",
     "output_type": "stream",
     "text": [
      "3.14\n"
     ]
    }
   ],
   "source": [
    "# Si se envían variables numéricas a una función print(), son convertidas a str y enviadas a consola\n",
    "value = 3.14\n",
    "print(value)\n"
   ]
  },
  {
   "cell_type": "code",
   "execution_count": 40,
   "id": "e5618aa5",
   "metadata": {},
   "outputs": [
    {
     "name": "stdout",
     "output_type": "stream",
     "text": [
      "la variable tiene valor: 3.14\n"
     ]
    }
   ],
   "source": [
    "# Varias variables y cadenas de texto pueden enviarse a print(), separadas por comas:\n",
    "texto = 'valor:'\n",
    "value = 3.14\n",
    "print (\"la variable tiene\", texto, value)\n"
   ]
  },
  {
   "cell_type": "code",
   "execution_count": 41,
   "id": "ae3bd08e",
   "metadata": {},
   "outputs": [
    {
     "name": "stdout",
     "output_type": "stream",
     "text": [
      "El valor de la variable 1 es: 3.14\n"
     ]
    }
   ],
   "source": [
    "# Pero una forma más adecuada de dar formato al texto es mediante el método .format()\n",
    "valnum = 1\n",
    "value = 3.14\n",
    "print('El valor de la variable {} es: {}'.format(valnum, value))\n"
   ]
  },
  {
   "cell_type": "code",
   "execution_count": 42,
   "id": "17553147",
   "metadata": {},
   "outputs": [
    {
     "name": "stdout",
     "output_type": "stream",
     "text": [
      "El valor de la variable 1 es: 3.14\n"
     ]
    }
   ],
   "source": [
    "# Que puede también escribirse en una forma más cómoda\n",
    "print(f'El valor de la variable {valnum} es: {value}')\n"
   ]
  },
  {
   "cell_type": "markdown",
   "id": "668e5227",
   "metadata": {},
   "source": [
    "## ACTIVIDAD\n",
    "Se tienen variables de texto que contienen datos sobre las dimensiones de una caja de encomienda. Con esta información se calcula el costo de envío por volumen, a razón de \\\\$15990 por metro cúbico, al cual se le suma un costo fijo de \\\\$2500.\n",
    "\n",
    "A partir de las definiciones de variables dadas, escriba un código que:\n",
    "\n",
    "1. Transforme los valores numéricos almacenados en **text_dato_1** , **text_dato_2** y **text_dato_3** en variables de tipo **float**. Asigne los resultados a las variables **largo**, **ancho** y **largo**, respectivamente.\n",
    "2. Con los valores numéricos de largo, ancho y largo, calcule el volumen de la caja como  **volumen =  largo * ancho * alto**\n",
    "3. Imprima un mensaje en pantalla que diga, por ejemplo: **\"El volumen de la caja es 0.32 m3\"**. El número debe estar redondeado a dos decimales.\n",
    "4. Calcule el costo de envío como el producto del volumen calculado por \\\\$15990, más el costo fijo de \\\\$2500. El resultado debe quedar almacenado en una variable llamada **costo_envio**, que debe ser de tipo **int**.\n",
    "5. Imprima un mensaje en pantalla que exprese el costo de envío (almacenado en la variable **costo_envio**) y el detalle de costo por volumen y costo fijo, por ejemplo: **\"El costo de envío es \\\\$8017, compuesto por un costo por volumen de \\\\$5517 más \\\\$2500 por servicio\"**.\n"
   ]
  },
  {
   "cell_type": "code",
   "execution_count": 46,
   "id": "13d102ad",
   "metadata": {},
   "outputs": [
    {
     "name": "stdout",
     "output_type": "stream",
     "text": [
      "el volumen de la caja es:0.11 m3\n"
     ]
    }
   ],
   "source": [
    "# datos de entrada\n",
    "text_dato_1 = (0.5)    # largo de la caja\n",
    "text_dato_2 = (0.85)   # ancho de la caja\n",
    "text_dato_3 = (0.25)  # alto de la caja\n",
    "\n",
    "# Escriba su código aquí ---->\n",
    "#datos de entrada\n",
    "text_dato_1 = (0.5)\n",
    "float(text_value)\n",
    "text_dato_2 = (0.85)\n",
    "float(text_value)\n",
    "text_dato_3 = (0.25)\n",
    "float(text_value)\n",
    "largo = (0.5)\n",
    "ancho = (0.85)\n",
    "alto = (0.25)\n",
    "volumen = float(text_dato_1 * text_dato_2 *text_dato_3)\n",
    "value = round(volumen,2)\n",
    "costo_fijo = 2500\n",
    "costo_envio = int(volumen * 15990) + costo_fijo\n",
    "print(f\"el volumen de la caja es:{value} m3\")\n"
   ]
  },
  {
   "cell_type": "code",
   "execution_count": 47,
   "id": "70af92b8",
   "metadata": {},
   "outputs": [
    {
     "name": "stdout",
     "output_type": "stream",
     "text": [
      "El valor almacenado en la variable costo_envio es $ 4198\n",
      "La variable costo_envio es de tipo <class 'int'>\n"
     ]
    }
   ],
   "source": [
    "# Si su código funciona correctamente, el siguiente código debiera ejecutarse sin errores:\n",
    "# *** NO MODIFIQUE ESTA CELDA ***\n",
    "\n",
    "print(f'El valor almacenado en la variable costo_envio es $ {costo_envio}')\n",
    "print(f'La variable costo_envio es de tipo {type(costo_envio)}')\n"
   ]
  },
  {
   "cell_type": "code",
   "execution_count": null,
   "id": "455b5623",
   "metadata": {},
   "outputs": [],
   "source": []
  },
  {
   "cell_type": "code",
   "execution_count": null,
   "id": "9988a1d3",
   "metadata": {},
   "outputs": [],
   "source": []
  }
 ],
 "metadata": {
  "kernelspec": {
   "display_name": "Python 3 (ipykernel)",
   "language": "python",
   "name": "python3"
  },
  "language_info": {
   "codemirror_mode": {
    "name": "ipython",
    "version": 3
   },
   "file_extension": ".py",
   "mimetype": "text/x-python",
   "name": "python",
   "nbconvert_exporter": "python",
   "pygments_lexer": "ipython3",
   "version": "3.11.4"
  }
 },
 "nbformat": 4,
 "nbformat_minor": 5
}
